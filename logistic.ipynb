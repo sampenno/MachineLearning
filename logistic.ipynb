{
 "cells": [
  {
   "cell_type": "markdown",
   "id": "acec38f4",
   "metadata": {},
   "source": [
    "#### Is a tumor of size 3.46cm likely to be cancerous?"
   ]
  },
  {
   "cell_type": "code",
   "execution_count": 26,
   "id": "e13241dc",
   "metadata": {},
   "outputs": [
    {
     "name": "stdout",
     "output_type": "stream",
     "text": [
      "[0]\n"
     ]
    }
   ],
   "source": [
    "import numpy\n",
    "from sklearn import linear_model\n",
    "\n",
    "#X represents the size of a tumor in centimeters.\n",
    "X = numpy.array([3.78, 2.44, 2.09, 0.14, 1.72, 1.65, 4.92, 4.37, 4.96, 4.52, 3.69, 5.88]).reshape(-1,1)\n",
    "\n",
    "#Note: X has to be reshaped into a column from a row for the LogisticRegression() function to work.\n",
    "#y represents whether or not the tumor is cancerous (0 for \"No\", 1 for \"Yes\").\n",
    "y = numpy.array([0, 0, 0, 0, 0, 0, 1, 1, 1, 1, 1, 1])\n",
    "logr = linear_model.LogisticRegression()\n",
    "logr.fit(X,y)\n",
    "\n",
    "#predict if tumor is cancerous where the size is 3.46mm:\n",
    "predicted = logr.predict(numpy.array([3.46]).reshape(-1,1))\n",
    "print(predicted)"
   ]
  },
  {
   "cell_type": "markdown",
   "id": "fd28132e",
   "metadata": {},
   "source": [
    "##### It is predicted that it is not cancerous"
   ]
  },
  {
   "cell_type": "code",
   "execution_count": 27,
   "id": "844b79ce",
   "metadata": {},
   "outputs": [
    {
     "name": "stdout",
     "output_type": "stream",
     "text": [
      "[[4.03557295]]\n"
     ]
    }
   ],
   "source": [
    "import numpy\n",
    "from sklearn import linear_model\n",
    "\n",
    "#Reshaped for Logistic function.\n",
    "X = numpy.array([3.78, 2.44, 2.09, 0.14, 1.72, 1.65, 4.92, 4.37, 4.96, 4.52, 3.69, 5.88]).reshape(-1,1)\n",
    "y = numpy.array([0, 0, 0, 0, 0, 0, 1, 1, 1, 1, 1, 1])\n",
    "\n",
    "logr = linear_model.LogisticRegression()\n",
    "logr.fit(X,y)\n",
    "\n",
    "log_odds = logr.coef_\n",
    "odds = numpy.exp(log_odds)\n",
    "\n",
    "print(odds)"
   ]
  },
  {
   "cell_type": "markdown",
   "id": "de2a55ed",
   "metadata": {},
   "source": [
    "##### Statistically speaking the odds of a tumor increases by 4 times if the tumour goes up by 1mm"
   ]
  },
  {
   "cell_type": "markdown",
   "id": "a93f6009",
   "metadata": {},
   "source": [
    "#### Probability\n",
    "\n",
    "##### The coefficient and intercept values can be used to find the probability that each tumor is cancerous."
   ]
  },
  {
   "cell_type": "code",
   "execution_count": 29,
   "id": "8ceb5234",
   "metadata": {},
   "outputs": [
    {
     "name": "stdout",
     "output_type": "stream",
     "text": [
      "[[0.61659863]\n",
      " [0.20501471]\n",
      " [0.13784257]\n",
      " [0.0110203 ]\n",
      " [0.08796587]\n",
      " [0.08059092]\n",
      " [0.88414923]\n",
      " [0.7826282 ]\n",
      " [0.88962939]\n",
      " [0.81546834]\n",
      " [0.52315066]\n",
      " [0.9658959 ]]\n"
     ]
    }
   ],
   "source": [
    "import numpy\n",
    "from sklearn import linear_model\n",
    "\n",
    "X = numpy.array([3.78, 2.44, 2.09, 0.14, 1.72, 1.65, 4.92, 4.37, 4.96, 4.52, 3.5, 5.88]).reshape(-1,1)\n",
    "y = numpy.array([0, 0, 0, 0, 0, 0, 1, 1, 1, 1, 1, 1])\n",
    "\n",
    "logr = linear_model.LogisticRegression()\n",
    "logr.fit(X,y)\n",
    "\n",
    "def logit2prob(logr, X):\n",
    "  log_odds = logr.coef_ * X + logr.intercept_\n",
    "  odds = numpy.exp(log_odds)\n",
    "  probability = odds / (1 + odds)\n",
    "  return(probability)\n",
    "\n",
    "print(logit2prob(logr, X))"
   ]
  },
  {
   "cell_type": "markdown",
   "id": "8f133560",
   "metadata": {},
   "source": [
    "Results Explained\n",
    "3.78 0.61 The probability that a tumor with the size 3.78cm is cancerous is 61%.\n",
    "\n",
    "2.44 0.19 The probability that a tumor with the size 2.44cm is cancerous is 19%.\n",
    "\n",
    "2.09 0.13 The probability that a tumor with the size 2.09cm is cancerous is 13%."
   ]
  }
 ],
 "metadata": {
  "kernelspec": {
   "display_name": "Python 3",
   "language": "python",
   "name": "python3"
  },
  "language_info": {
   "codemirror_mode": {
    "name": "ipython",
    "version": 3
   },
   "file_extension": ".py",
   "mimetype": "text/x-python",
   "name": "python",
   "nbconvert_exporter": "python",
   "pygments_lexer": "ipython3",
   "version": "3.12.1"
  }
 },
 "nbformat": 4,
 "nbformat_minor": 5
}
